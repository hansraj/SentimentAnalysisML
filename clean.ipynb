{
 "cells": [
  {
   "cell_type": "code",
   "execution_count": null,
   "metadata": {},
   "outputs": [],
   "source": [
    "#date time needs fixing\n",
    "# remove userref\n",
    "# remove hastags - keep works (iterable)\n",
    "# urls\n",
    "# unescaped html chars"
   ]
  },
  {
   "cell_type": "code",
   "execution_count": null,
   "metadata": {},
   "outputs": [],
   "source": [
    "import pandas as pd\n",
    "import seaborn as sns\n",
    "\n",
    "from pyspark.sql import SparkSession as ss, functions as f\n",
    "spark = ss.builder.getOrCreate()\n",
    "\n",
    "pd.options.display.max_columns = None\n",
    "sns.set(color_codes=True)\n",
    "timestampFormat=\"EEE MMM dd HH:mm:ss z yyyy\"\n",
    "IN_PATH = \"RAW\"\n",
    "PATH2= \"RAW\"\n",
    "OUT_PATH =\"CLEAN\"\n",
    "\n",
    "schema=\"polarity FLOAT, id LONG, date_time TIMESTAMP, query string, user STRING, text STRING\"\n",
    "spark_reader = spark.read.schema(schema)"
   ]
  },
  {
   "cell_type": "code",
   "execution_count": 69,
   "metadata": {},
   "outputs": [],
   "source": [
    "import html\n",
    "@f.udf\n",
    "\n",
    "def html_unescape(s):\n",
    "    if(s):\n",
    "        return html.unescape(s)\n",
    "    else:\n",
    "        return s\n",
    "    \n",
    "def clean_data(df):\n",
    "    df_clean = (\n",
    "    df\n",
    "    .withColumn(\"text\", f.regexp_replace(f.col(\"text\"), url_regex, \"\"))\n",
    "    .withColumn(\"text\", f.regexp_replace(f.col(\"text\"), email_regex, \"\"))\n",
    "    .withColumn(\"text\", f.regexp_replace(f.col(\"text\"), user_regex, \"\"))\n",
    "    .withColumn(\"text\", f.regexp_replace(f.col(\"text\"), \"#\", \" \"))\n",
    "    .withColumn(\"text\", html_unescape(f.col(\"text\")))\n",
    "    .filter(f.col(\"text\") != '')\n",
    "    )\n",
    "    return df_clean\n",
    "    \n",
    "raw_df = spark_reader.csv(IN_PATH, timestampFormat=timestampFormat).cache()\n",
    "clean_df = clean_data(raw_df)\n",
    "\n",
    "clean_df.write.partitionBy(\"polarity\").parquet(OUT_PATH, mode=\"overwrite\")"
   ]
  },
  {
   "cell_type": "markdown",
   "metadata": {},
   "source": [
    "?Obama Administration Must Stop Bonuses to AIG Ponzi Schemers ... http://bit.ly/2CUIg\n",
    "@spinuzzi: Has been a bit crazy, with steep learning curve, but LyX is really good for long docs. For anything shorter, it would be insane.\n",
    "@phyreman9 Google is always a good place to look. Should've mentioned I worked on the Mustang w/ my Dad, @KimbleT.\n",
    "[#MLUC09] Customer Innovation Award Winner: Booz Allen Hamilton -- http://ping.fm/c2hPP\n",
    "#lebron best athlete of our generation, if not all time (basketball related) I don't want to get into inter-sport debates about   __1/2\n",
    "localhost:1234\n",
    "some@email.adress\n",
    "some.email@domain.com\n",
    "a_much_more_complicated_email.some.email@domain.with.lots.of.dots.and_underscores.longdomainname\n",
    "www.something.com\n",
    "http://spark.apache.org/\n",
    "file://some_file_location/file.fmt\n",
    "file:///some_file_location/file.fmt\n",
    "https://blip.fm/~6emhv\n",
    "https://www.freeformatter.com/java-regex-tester.html#ad-output\n",
    "https://spark.apache.org/docs/2.4.3/api/python/pyspark.ml.html#module-pyspark.ml.evaluation\n",
    "google@gmail.com"
   ]
  },
  {
   "cell_type": "code",
   "execution_count": 70,
   "metadata": {},
   "outputs": [],
   "source": [
    "user_regex = r\"(@\\w{1,15})\"\n",
    "hash_regex = r\"(#\\w{1})\"\n",
    "url_regex = r\"((https?|ftp|file):\\/{2,3})+([-\\w+&@#/%=~|$?!:,.]*)|(www.)+([-\\w+&@#/%=~|$?!:,.]*)\"\n",
    "email_regex = r\"[\\w.-]+@[\\w.-]+\\.[a-zA-Z]{1,}\""
   ]
  },
  {
   "cell_type": "code",
   "execution_count": 71,
   "metadata": {},
   "outputs": [
    {
     "data": {
      "text/plain": [
       "1597303"
      ]
     },
     "execution_count": 71,
     "metadata": {},
     "output_type": "execute_result"
    }
   ],
   "source": [
    "clean_df.count()"
   ]
  }
 ],
 "metadata": {
  "kernelspec": {
   "display_name": "Python 3",
   "language": "python",
   "name": "python3"
  },
  "language_info": {
   "codemirror_mode": {
    "name": "ipython",
    "version": 3
   },
   "file_extension": ".py",
   "mimetype": "text/x-python",
   "name": "python",
   "nbconvert_exporter": "python",
   "pygments_lexer": "ipython3",
   "version": "3.7.3"
  }
 },
 "nbformat": 4,
 "nbformat_minor": 2
}
