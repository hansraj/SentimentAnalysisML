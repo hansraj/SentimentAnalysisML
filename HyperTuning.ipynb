{
 "cells": [
  {
   "cell_type": "code",
   "execution_count": null,
   "metadata": {},
   "outputs": [],
   "source": [
    "from pyspark.sql import SparkSession as SS\n",
    "spark = SS.builder.getOrCreate()"
   ]
  },
  {
   "cell_type": "code",
   "execution_count": null,
   "metadata": {},
   "outputs": [],
   "source": [
    "from pyspark.ml import Pipeline\n",
    "from pyspark.ml.classification import LogisticRegression\n",
    "from pyspark.ml.evaluation import BinaryClassificationEvaluator\n",
    "from pyspark.ml.feature import HashingTF, Tokenizer\n",
    "from pyspark.ml.tuning import CrossValidator, ParamGridBuilder"
   ]
  },
  {
   "cell_type": "code",
   "execution_count": null,
   "metadata": {},
   "outputs": [],
   "source": [
    "training_data = [\n",
    "    (0, \"a b c d e spark\", 1.0),\n",
    "    (1, \"b d\", 0.0),\n",
    "    (2, \"spark f g h\", 1.0),\n",
    "    (3, \"hadoop mapreduce\", 0.0),\n",
    "    (4, \"b spark who\", 1.0),\n",
    "    (5, \"g d a y\", 0.0),\n",
    "    (6, \"spark fly\", 1.0),\n",
    "    (7, \"was mapreduce\", 0.0),\n",
    "    (8, \"e spark program\", 1.0),\n",
    "    (9, \"a e c l\", 0.0),\n",
    "    (10, \"spark compile\", 1.0),\n",
    "    (11, \"hadoop software\", 0.0),\n",
    "    (12, \"hansraj j\", 3.0),\n",
    "    (13, \"hridhaaan j\", 4.0),    \n",
    "]\n",
    "\n",
    "training = spark.createDataFrame(training_data, [\"id\", \"text\", \"label\"])\n",
    "training.show()\n",
    "\n",
    "# Prepare test documents, which are unlabeled.\n",
    "test_data = [\n",
    "    (4, \"spark i j k\"),\n",
    "    (5, \"l m n\"),\n",
    "    (6, \"mapreduce spark\"),\n",
    "    (7, \"apache hadoop\"),\n",
    "    (15, \"priyanka j\")\n",
    "]\n",
    "test = spark.createDataFrame(test_data, [\"id\", \"text\"],)\n",
    "test.show()"
   ]
  },
  {
   "cell_type": "code",
   "execution_count": 12,
   "metadata": {},
   "outputs": [
    {
     "name": "stdout",
     "output_type": "stream",
     "text": [
      "+---+---------------+------------------+--------------------+--------------------+--------------------+----------+\n",
      "| id|           text|        textTokens|            features|       rawPrediction|         probability|prediction|\n",
      "+---+---------------+------------------+--------------------+--------------------+--------------------+----------+\n",
      "|  4|    spark i j k|  [spark, i, j, k]|(10,[5,6,9],[1.0,...|[-4.7173593050707...|[3.42025018211054...|       3.0|\n",
      "|  5|          l m n|         [l, m, n]|(10,[5,6,8],[1.0,...|[0.48878749430331...|[0.04190855768144...|       1.0|\n",
      "|  6|mapreduce spark|[mapreduce, spark]|(10,[3,5],[1.0,1.0])|[1.00233194766876...|[0.06379700497879...|       1.0|\n",
      "|  7|  apache hadoop|  [apache, hadoop]|(10,[1,5],[1.0,1.0])|[0.73870457222680...|[0.02301841639741...|       1.0|\n",
      "| 15|     priyanka j|     [priyanka, j]|(10,[4,9],[1.0,1.0])|[0.27060785504197...|[0.14290516243719...|       3.0|\n",
      "+---+---------------+------------------+--------------------+--------------------+--------------------+----------+\n",
      "\n"
     ]
    }
   ],
   "source": [
    "tokens = Tokenizer(inputCol=\"text\", outputCol=\"textTokens\")\n",
    "hashingTF = HashingTF(inputCol=tokens.getOutputCol(), outputCol=\"features\")\n",
    "lr = LogisticRegression(maxIter=10)\n",
    "\n",
    "pipeline = Pipeline(stages=[tokens, hashingTF, lr])\n",
    "\n",
    "#using parambuilder for settings params for all blocks in the estimator pipeline\n",
    "params = (\n",
    "    ParamGridBuilder()\n",
    "    .addGrid(hashingTF.numFeatures, [10, 100, 1000])\n",
    "    .addGrid(lr.regParam, [0.1, 0.01])\n",
    "    .build()\n",
    ")\n",
    "\n",
    "crossval = CrossValidator(\n",
    "    estimator = pipeline,\n",
    "    estimatorParamMaps = params,\n",
    "    evaluator = BinaryClassificationEvaluator(),\n",
    "    numFolds = 2\n",
    ")\n",
    "\n",
    "cvmodel = crossval.fit(training)\n",
    "\n",
    "predicted = cvmodel.transform(test)\n",
    "predicted.show()\n",
    "\n"
   ]
  }
 ],
 "metadata": {
  "kernelspec": {
   "display_name": "Python 3",
   "language": "python",
   "name": "python3"
  },
  "language_info": {
   "codemirror_mode": {
    "name": "ipython",
    "version": 3
   },
   "file_extension": ".py",
   "mimetype": "text/x-python",
   "name": "python",
   "nbconvert_exporter": "python",
   "pygments_lexer": "ipython3",
   "version": "3.7.3"
  }
 },
 "nbformat": 4,
 "nbformat_minor": 2
}
