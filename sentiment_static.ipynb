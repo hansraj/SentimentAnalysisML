{
 "cells": [
  {
   "cell_type": "code",
   "execution_count": null,
   "metadata": {},
   "outputs": [],
   "source": [
    "from pyspark.sql import SparkSession as ss\n",
    "from pyspark.sql import DataFrame\n",
    "from pyspark.sql.streaming import DataStreamReader\n",
    "from pyspark.sql import functions as f\n",
    "from pyspark.ml import PipelineModel\n",
    "from pyspark.sql.functions import udf\n",
    "import pandas as pd\n",
    "from IPython.display import display, clear_output\n",
    "\n",
    "pd.options.display.max_columns = None\n",
    "pd.options.display.max_rows = 30\n",
    "pd.options.display.max_colwidth = 100\n",
    "\n",
    "# Variable & settings\n",
    "IN_PATH = \"/home/jovyan/data-sets/twitter/\"\n",
    "MODEL_PATH = \"\"\n",
    "OUT_PATH = \"\"\n",
    "timestamp_format = \"EEE MMM dd HH:mm:ss zzzz yyyy\"\n",
    "\n",
    "spark = ss.builder.appName(\"StructuredStreaming\").getOrCreate()\n",
    "# infer schema from the sample input data\n",
    "schema = spark.read.json(IN_PATH).limit(10).schema\n",
    "\n",
    "#create static and stream readers\n",
    "static_spark_reader = spark.read.schema(schema)\n",
    "stream_spark_reader = spark.readStream.schema(schema)"
   ]
  },
  {
   "cell_type": "code",
   "execution_count": null,
   "metadata": {},
   "outputs": [],
   "source": [
    "#Create a quick toggle switch\n",
    "spark_reader = static_spark_reader\n",
    "#spark_reader = stream_spark_reader"
   ]
  },
  {
   "cell_type": "code",
   "execution_count": null,
   "metadata": {},
   "outputs": [],
   "source": [
    "df = (\n",
    "    spark_reader.json(IN_PATH)\n",
    "    .select(\n",
    "        \"id\",\n",
    "        f.to_timestamp(f.col(\"created_at\"), timestamp_format).alias(\"timestamp\"),\n",
    "        f.col(\"user.screen_name\").alias(\"user\"),\n",
    "        \"text\"        \n",
    "    )\n",
    "    .coalesce(1)\n",
    ")\n",
    "\n",
    "distinct_user_count_df = df.select(f.approx_count_distinct(\"user\"), f.current_timestamp())\n",
    "\n",
    "if not df.isStreaming:\n",
    "    print(\"Plain old Dataframe ...\")\n",
    "    distinct_user_count_df.show()\n",
    "else:\n",
    "    print(\"Lets Stream m m m m m m m m m\")\n",
    "    stream_writer = (\n",
    "        distinct_user_count_df.writeStream\n",
    "        .query(\"distinct_user_count\")\n",
    "        .trigger(\n",
    "            processingTime=\"5 seconds\"\n",
    "            #once=True - setting this makes spark to run it only once, good for debug\n",
    "        )\n",
    "        .outputMode(\"complete\")\n",
    "        .format(\"memory\")\n",
    "    )\n",
    "    \n",
    "    query = stream_write.start()"
   ]
  },
  {
   "cell_type": "code",
   "execution_count": null,
   "metadata": {},
   "outputs": [],
   "source": [
    "df.isStreaming"
   ]
  },
  {
   "cell_type": "code",
   "execution_count": null,
   "metadata": {},
   "outputs": [],
   "source": [
    "#operations on query variable for streaming\n",
    "query.isActive\n",
    "query.stop\n",
    "query.lastProgress\n",
    "#Only one active stream with unique name can be started\n"
   ]
  },
  {
   "cell_type": "code",
   "execution_count": null,
   "metadata": {},
   "outputs": [],
   "source": [
    "# how to read from the streaming df - manually\n",
    "display(spark.sql(f\"SELECT * FROM {query.name}\").toPandas())"
   ]
  },
  {
   "cell_type": "code",
   "execution_count": null,
   "metadata": {},
   "outputs": [],
   "source": [
    "# to chekc it at a fixed interval : every 1 second for 2 mins\n",
    "from time import sleep\n",
    "for i in range (0, 120):\n",
    "    display(spark.sql(f\"SELECT * FROM {query.name}\").toPandas())\n",
    "    sleep(1) # Adding a sleep for 1 sec\n",
    "    clear_output(wait=True)\n",
    "else:\n",
    "    print(\"Live streaming ended.. \")"
   ]
  },
  {
   "cell_type": "code",
   "execution_count": null,
   "metadata": {},
   "outputs": [],
   "source": [
    "import html\n",
    "@f.udf\n",
    "\n",
    "user_regex = r\"(@\\w{1,15})\"\n",
    "hash_regex = r\"(#\\w{1})\"\n",
    "url_regex = r\"((https?|ftp|file):\\/{2,3})+([-\\w+&@#/%=~|$?!:,.]*)|(www.)+([-\\w+&@#/%=~|$?!:,.]*)\"\n",
    "email_regex = r\"[\\w.-]+@[\\w.-]+\\.[a-zA-Z]{1,}\"\n",
    "number_regex = \"[^a-zA-Z']\"\n",
    "double_space_regex = \" +\"\n",
    "\n",
    "def html_unescape(s):\n",
    "    if(s):\n",
    "        return html.unescape(s)\n",
    "    else:\n",
    "        return s\n",
    "    \n",
    "def clean_data(df):\n",
    "    df_clean = (\n",
    "    df\n",
    "    .withColumn(\"text\", f.regexp_replace(f.col(\"text\"), url_regex, \"\"))\n",
    "    .withColumn(\"text\", f.regexp_replace(f.col(\"text\"), email_regex, \"\"))\n",
    "    .withColumn(\"text\", f.regexp_replace(f.col(\"text\"), user_regex, \"\"))\n",
    "    .withColumn(\"text\", f.regexp_replace(f.col(\"text\"), \"#\", \" \"))\n",
    "    .withColumn(\"text\", html_unescape(f.col(\"text\")))\n",
    "        \n",
    "    .withColumn(\"text\", f.regexp_replace(f.col(\"text\"), number_regex, \" \"))\n",
    "    .withColumn(\"text\", f.regexp_replace(f.col(\"text\"), double_space_regex, \" \"))\n",
    "    .withColumn(\"text\", f.trim(f.col(\"text\")))\n",
    "    .filter(f.col(\"text\") != \" \")\n",
    "    )\n",
    "    return df_clean"
   ]
  },
  {
   "cell_type": "code",
   "execution_count": 1,
   "metadata": {},
   "outputs": [
    {
     "ename": "ModuleNotFoundError",
     "evalue": "No module named 'cupy'",
     "output_type": "error",
     "traceback": [
      "\u001b[0;31m---------------------------------------------------------------------------\u001b[0m",
      "\u001b[0;31mModuleNotFoundError\u001b[0m                       Traceback (most recent call last)",
      "\u001b[0;32m<ipython-input-1-578a68c608d5>\u001b[0m in \u001b[0;36m<module>\u001b[0;34m\u001b[0m\n\u001b[1;32m      1\u001b[0m \u001b[0;32mimport\u001b[0m \u001b[0mnumpy\u001b[0m \u001b[0;32mas\u001b[0m \u001b[0mnp\u001b[0m\u001b[0;34m\u001b[0m\u001b[0;34m\u001b[0m\u001b[0m\n\u001b[1;32m      2\u001b[0m \u001b[0;32mimport\u001b[0m \u001b[0mnumpy\u001b[0m \u001b[0;32mas\u001b[0m \u001b[0mnp\u001b[0m\u001b[0;34m\u001b[0m\u001b[0;34m\u001b[0m\u001b[0m\n\u001b[0;32m----> 3\u001b[0;31m \u001b[0;32mimport\u001b[0m \u001b[0mcupy\u001b[0m \u001b[0;32mas\u001b[0m \u001b[0mcp\u001b[0m\u001b[0;34m\u001b[0m\u001b[0;34m\u001b[0m\u001b[0m\n\u001b[0m\u001b[1;32m      4\u001b[0m \u001b[0;32mimport\u001b[0m \u001b[0mtime\u001b[0m\u001b[0;34m\u001b[0m\u001b[0;34m\u001b[0m\u001b[0m\n",
      "\u001b[0;31mModuleNotFoundError\u001b[0m: No module named 'cupy'"
     ]
    }
   ],
   "source": []
  },
  {
   "cell_type": "code",
   "execution_count": 1,
   "metadata": {},
   "outputs": [
    {
     "ename": "ModuleNotFoundError",
     "evalue": "No module named 'cupy'",
     "output_type": "error",
     "traceback": [
      "\u001b[0;31m---------------------------------------------------------------------------\u001b[0m",
      "\u001b[0;31mModuleNotFoundError\u001b[0m                       Traceback (most recent call last)",
      "\u001b[0;32m<ipython-input-1-825db8655c8b>\u001b[0m in \u001b[0;36m<module>\u001b[0;34m\u001b[0m\n\u001b[1;32m      1\u001b[0m \u001b[0;32mimport\u001b[0m \u001b[0mnumpy\u001b[0m \u001b[0;32mas\u001b[0m \u001b[0mnp\u001b[0m\u001b[0;34m\u001b[0m\u001b[0;34m\u001b[0m\u001b[0m\n\u001b[1;32m      2\u001b[0m \u001b[0;32mimport\u001b[0m \u001b[0mnumpy\u001b[0m \u001b[0;32mas\u001b[0m \u001b[0mnp\u001b[0m\u001b[0;34m\u001b[0m\u001b[0;34m\u001b[0m\u001b[0m\n\u001b[0;32m----> 3\u001b[0;31m \u001b[0;32mimport\u001b[0m \u001b[0mcupy\u001b[0m \u001b[0;32mas\u001b[0m \u001b[0mcp\u001b[0m\u001b[0;34m\u001b[0m\u001b[0;34m\u001b[0m\u001b[0m\n\u001b[0m\u001b[1;32m      4\u001b[0m \u001b[0;32mimport\u001b[0m \u001b[0mtime\u001b[0m\u001b[0;34m\u001b[0m\u001b[0;34m\u001b[0m\u001b[0m\n\u001b[1;32m      5\u001b[0m \u001b[0;31m### Running at CPU using Numpy\u001b[0m\u001b[0;34m\u001b[0m\u001b[0;34m\u001b[0m\u001b[0;34m\u001b[0m\u001b[0m\n",
      "\u001b[0;31mModuleNotFoundError\u001b[0m: No module named 'cupy'"
     ]
    }
   ],
   "source": []
  },
  {
   "cell_type": "code",
   "execution_count": 2,
   "metadata": {},
   "outputs": [
    {
     "name": "stdout",
     "output_type": "stream",
     "text": [
      "Collecting cupy\n",
      "  Using cached https://files.pythonhosted.org/packages/07/f8/64b350de7bbf1aaa070ce97dcb26379a4226441a4916900f68dcfe235d62/cupy-9.0.0.tar.gz\n",
      "\u001b[31m    ERROR: Complete output from command python setup.py egg_info:\u001b[0m\n",
      "\u001b[31m    ERROR: Options: {'package_name': 'cupy', 'long_description': None, 'wheel_libs': [], 'wheel_includes': [], 'wheel_metadata': None, 'no_rpath': False, 'profile': False, 'linetrace': False, 'annotate': False, 'no_cuda': False, 'use_hip': False}\n",
      "    \n",
      "    -------- Configuring Module: cuda --------\n",
      "    cc1plus: warning: command line option ‘-Wstrict-prototypes’ is valid for C/ObjC but not for C++\n",
      "    /tmp/tmpc1d2ye50/a.cpp:1:10: fatal error: cublas_v2.h: No such file or directory\n",
      "     #include <cublas_v2.h>\n",
      "              ^~~~~~~~~~~~~\n",
      "    compilation terminated.\n",
      "    command 'gcc' failed with exit status 1\n",
      "    cc1plus: warning: command line option ‘-Wstrict-prototypes’ is valid for C/ObjC but not for C++\n",
      "    /tmp/tmpvg1jmwr6/a.cpp:1:10: fatal error: cuda_runtime_api.h: No such file or directory\n",
      "     #include <cuda_runtime_api.h>\n",
      "              ^~~~~~~~~~~~~~~~~~~~\n",
      "    compilation terminated.\n",
      "    **************************************************\n",
      "    *** WARNING: Cannot check cuDNN version\n",
      "    command 'gcc' failed with exit status 1\n",
      "    **************************************************\n",
      "    \n",
      "    ************************************************************\n",
      "    * CuPy Configuration Summary                               *\n",
      "    ************************************************************\n",
      "    \n",
      "    Build Environment:\n",
      "      Include directories: ['/tmp/pip-install-td1jd94c/cupy/install/../cupy/_core/include/cupy/cub', '/tmp/pip-install-td1jd94c/cupy/install/../cupy/_core/include']\n",
      "      Library directories: []\n",
      "      nvcc command       : (not found)\n",
      "      hipcc command      : (not found)\n",
      "    \n",
      "    Environment Variables:\n",
      "      CFLAGS          : (none)\n",
      "      LDFLAGS         : (none)\n",
      "      LIBRARY_PATH    : (none)\n",
      "      CUDA_PATH       : (none)\n",
      "      NVTOOLSEXT_PATH : (none)\n",
      "      NVCC            : (none)\n",
      "      HIPCC           : (none)\n",
      "      ROCM_HOME       : (none)\n",
      "    \n",
      "    Modules:\n",
      "      cuda      : No\n",
      "        -> Include files not found: ['cublas_v2.h', 'cuda.h', 'cuda_profiler_api.h', 'cuda_runtime.h', 'cufft.h', 'curand.h', 'cusparse.h', 'nvrtc.h']\n",
      "        -> Check your CFLAGS environment variable.\n",
      "    \n",
      "    ERROR: CUDA could not be found on your system.\n",
      "    Please refer to the Installation Guide for details:\n",
      "    https://docs.cupy.dev/en/stable/install.html\n",
      "    \n",
      "    ************************************************************\n",
      "    \n",
      "    Traceback (most recent call last):\n",
      "      File \"<string>\", line 1, in <module>\n",
      "      File \"/tmp/pip-install-td1jd94c/cupy/setup.py\", line 117, in <module>\n",
      "        ext_modules = cupy_setup_build.get_ext_modules()\n",
      "      File \"/tmp/pip-install-td1jd94c/cupy/cupy_setup_build.py\", line 924, in get_ext_modules\n",
      "        extensions = make_extensions(arg_options, compiler, use_cython)\n",
      "      File \"/tmp/pip-install-td1jd94c/cupy/cupy_setup_build.py\", line 654, in make_extensions\n",
      "        raise Exception('Your CUDA environment is invalid. '\n",
      "    Exception: Your CUDA environment is invalid. Please check above error log.\n",
      "    ----------------------------------------\u001b[0m\n",
      "\u001b[31mERROR: Command \"python setup.py egg_info\" failed with error code 1 in /tmp/pip-install-td1jd94c/cupy/\u001b[0m\n",
      "Note: you may need to restart the kernel to use updated packages.\n"
     ]
    }
   ],
   "source": [
    "pip install cupy"
   ]
  }
 ],
 "metadata": {
  "kernelspec": {
   "display_name": "Python 3",
   "language": "python",
   "name": "python3"
  },
  "language_info": {
   "codemirror_mode": {
    "name": "ipython",
    "version": 3
   },
   "file_extension": ".py",
   "mimetype": "text/x-python",
   "name": "python",
   "nbconvert_exporter": "python",
   "pygments_lexer": "ipython3",
   "version": "3.7.3"
  }
 },
 "nbformat": 4,
 "nbformat_minor": 2
}
